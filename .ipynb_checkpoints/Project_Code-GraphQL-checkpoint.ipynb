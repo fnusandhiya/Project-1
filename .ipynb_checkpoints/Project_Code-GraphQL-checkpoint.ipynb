{
 "cells": [
  {
   "cell_type": "code",
   "execution_count": 7,
   "metadata": {},
   "outputs": [
    {
     "data": {
      "text/plain": [
       "'FWlLMLNa9oQxO8YNFssSF9wXFHJfMlP5nVNebOoSYE42Zqtk1s71LFbisf6hJWqPUkuYiCHxlsoSCi3Sh09PhOT10DdAf48vvY31Jpbzvy1nWUXP8kn9qu9HjNeTW3Yx'"
      ]
     },
     "execution_count": 7,
     "metadata": {},
     "output_type": "execute_result"
    }
   ],
   "source": [
    "import matplotlib.pyplot as plt\n",
    "import pandas as pd\n",
    "import numpy as np\n",
    "import requests\n",
    "import time\n",
    "import json\n",
    "import random\n",
    "from pprint import pprint\n",
    "from yelpapi import YelpAPI\n",
    "from gql import gql, Client\n",
    "\n",
    "\n",
    "# Yelp API KEY\n",
    "from API import api_key\n",
    "api_key"
   ]
  },
  {
   "cell_type": "code",
   "execution_count": 4,
   "metadata": {},
   "outputs": [
    {
     "name": "stdout",
     "output_type": "stream",
     "text": [
      "{'businesses': [{'id': 'AXYaEjW1-xo9oRgEnrP0TQ', 'alias': 'trio-cleveland', 'name': 'Trio', 'image_url': 'https://s3-media4.fl.yelpcdn.com/bphoto/WcMCVafGrJJ_V5IbOrOrkQ/o.jpg', 'is_closed': False, 'url': 'https://www.yelp.com/biz/trio-cleveland?adjust_creative=xisiub8o-uhUA0tywyYa5Q&utm_campaign=yelp_api_v3&utm_medium=api_v3_business_search&utm_source=xisiub8o-uhUA0tywyYa5Q', 'review_count': 20, 'categories': [{'alias': 'newamerican', 'title': 'American (New)'}], 'rating': 4.5, 'coordinates': {'latitude': 41.47588, 'longitude': -81.69099}, 'transactions': ['restaurant_reservation'], 'location': {'address1': '2661 W 14th St', 'address2': '', 'address3': None, 'city': 'Cleveland', 'zip_code': '44113', 'country': 'US', 'state': 'OH', 'display_address': ['2661 W 14th St', 'Cleveland, OH 44113']}, 'phone': '+12169527035', 'display_phone': '(216) 952-7035', 'distance': 1578.8010028272633}, {'id': 't2O4Qx74U_IfBzDHJzvUCA', 'alias': 'urban-farmer-cleveland-2', 'name': 'Urban Farmer', 'image_url': 'https://s3-media1.fl.yelpcdn.com/bphoto/U-B27HQk0ibuam_ddp_IJw/o.jpg', 'is_closed': False, 'url': 'https://www.yelp.com/biz/urban-farmer-cleveland-2?adjust_creative=xisiub8o-uhUA0tywyYa5Q&utm_campaign=yelp_api_v3&utm_medium=api_v3_business_search&utm_source=xisiub8o-uhUA0tywyYa5Q', 'review_count': 464, 'categories': [{'alias': 'tradamerican', 'title': 'American (Traditional)'}, {'alias': 'steak', 'title': 'Steakhouses'}], 'rating': 3.5, 'coordinates': {'latitude': 41.5034943, 'longitude': -81.691981}, 'transactions': [], 'price': '$$', 'location': {'address1': '1325 E 6th St', 'address2': None, 'address3': '', 'city': 'Cleveland', 'zip_code': '44114', 'country': 'US', 'state': 'OH', 'display_address': ['1325 E 6th St', 'Cleveland, OH 44114']}, 'phone': '+12167717707', 'display_phone': '(216) 771-7707', 'distance': 3725.8714029619105}, {'id': 'vdloJPM3bSpQTMlwdFek2A', 'alias': 'butcher-and-the-brewer-cleveland', 'name': 'Butcher and the Brewer', 'image_url': 'https://s3-media4.fl.yelpcdn.com/bphoto/8a_nJtuxfgldpil-T2DK4A/o.jpg', 'is_closed': False, 'url': 'https://www.yelp.com/biz/butcher-and-the-brewer-cleveland?adjust_creative=xisiub8o-uhUA0tywyYa5Q&utm_campaign=yelp_api_v3&utm_medium=api_v3_business_search&utm_source=xisiub8o-uhUA0tywyYa5Q', 'review_count': 506, 'categories': [{'alias': 'newamerican', 'title': 'American (New)'}, {'alias': 'pubs', 'title': 'Pubs'}, {'alias': 'breweries', 'title': 'Breweries'}], 'rating': 4.0, 'coordinates': {'latitude': 41.4992176741362, 'longitude': -81.6901288926601}, 'transactions': [], 'price': '$$', 'location': {'address1': '2043 E 4th St', 'address2': '', 'address3': '', 'city': 'Cleveland', 'zip_code': '44115', 'country': 'US', 'state': 'OH', 'display_address': ['2043 E 4th St', 'Cleveland, OH 44115']}, 'phone': '+12163310805', 'display_phone': '(216) 331-0805', 'distance': 3227.9234428051445}, {'id': 'OD2dbQTKN7FS01fHzZqqzA', 'alias': 'the-bourbon-street-barrel-room-cleveland', 'name': 'The Bourbon Street Barrel Room', 'image_url': 'https://s3-media2.fl.yelpcdn.com/bphoto/DoNlcqIZu-W9ODHo7bzCPw/o.jpg', 'is_closed': False, 'url': 'https://www.yelp.com/biz/the-bourbon-street-barrel-room-cleveland?adjust_creative=xisiub8o-uhUA0tywyYa5Q&utm_campaign=yelp_api_v3&utm_medium=api_v3_business_search&utm_source=xisiub8o-uhUA0tywyYa5Q', 'review_count': 379, 'categories': [{'alias': 'bars', 'title': 'Bars'}, {'alias': 'cajun', 'title': 'Cajun/Creole'}], 'rating': 4.0, 'coordinates': {'latitude': 41.4800421884869, 'longitude': -81.6850350203755}, 'transactions': [], 'price': '$$', 'location': {'address1': '2393 Professor Ave', 'address2': '', 'address3': '', 'city': 'Cleveland', 'zip_code': '44113', 'country': 'US', 'state': 'OH', 'display_address': ['2393 Professor Ave', 'Cleveland, OH 44113']}, 'phone': '+12162984400', 'display_phone': '(216) 298-4400', 'distance': 1287.210840338824}, {'id': 'cX2Nr_XmGYlMaBW35M0sUg', 'alias': 'mabels-bbq-cleveland', 'name': \"Mabel's BBQ\", 'image_url': 'https://s3-media2.fl.yelpcdn.com/bphoto/RGxYiAr6oGl4FPVkD7W5GA/o.jpg', 'is_closed': False, 'url': 'https://www.yelp.com/biz/mabels-bbq-cleveland?adjust_creative=xisiub8o-uhUA0tywyYa5Q&utm_campaign=yelp_api_v3&utm_medium=api_v3_business_search&utm_source=xisiub8o-uhUA0tywyYa5Q', 'review_count': 726, 'categories': [{'alias': 'bbq', 'title': 'Barbeque'}, {'alias': 'bars', 'title': 'Bars'}], 'rating': 4.0, 'coordinates': {'latitude': 41.4989512054125, 'longitude': -81.6902246153941}, 'transactions': [], 'price': '$$', 'location': {'address1': '2050 E 4th St', 'address2': '', 'address3': '', 'city': 'Cleveland', 'zip_code': '44115', 'country': 'US', 'state': 'OH', 'display_address': ['2050 E 4th St', 'Cleveland, OH 44115']}, 'phone': '+12164178823', 'display_phone': '(216) 417-8823', 'distance': 3205.314158655642}, {'id': 'J1RDyyPxhioqm8c_fi4P4Q', 'alias': 'lola-cleveland', 'name': 'Lola', 'image_url': 'https://s3-media1.fl.yelpcdn.com/bphoto/XuGT-ENxIoteq2fj4OTgdg/o.jpg', 'is_closed': False, 'url': 'https://www.yelp.com/biz/lola-cleveland?adjust_creative=xisiub8o-uhUA0tywyYa5Q&utm_campaign=yelp_api_v3&utm_medium=api_v3_business_search&utm_source=xisiub8o-uhUA0tywyYa5Q', 'review_count': 979, 'categories': [{'alias': 'wine_bars', 'title': 'Wine Bars'}, {'alias': 'newamerican', 'title': 'American (New)'}], 'rating': 4.0, 'coordinates': {'latitude': 41.49883, 'longitude': -81.69035}, 'transactions': [], 'price': '$$$', 'location': {'address1': '2058 E 4th St', 'address2': '', 'address3': '', 'city': 'Cleveland', 'zip_code': '44115', 'country': 'US', 'state': 'OH', 'display_address': ['2058 E 4th St', 'Cleveland, OH 44115']}, 'phone': '+12166215652', 'display_phone': '(216) 621-5652', 'distance': 3191.079270387402}, {'id': 'HIvLwkEYuGRtI17H2x7RuQ', 'alias': 'bold-food-and-drink-cleveland', 'name': 'Bold Food & Drink', 'image_url': 'https://s3-media2.fl.yelpcdn.com/bphoto/PWmQYcISsk4A0PpjGu94vQ/o.jpg', 'is_closed': False, 'url': 'https://www.yelp.com/biz/bold-food-and-drink-cleveland?adjust_creative=xisiub8o-uhUA0tywyYa5Q&utm_campaign=yelp_api_v3&utm_medium=api_v3_business_search&utm_source=xisiub8o-uhUA0tywyYa5Q', 'review_count': 133, 'categories': [{'alias': 'newamerican', 'title': 'American (New)'}, {'alias': 'bars', 'title': 'Bars'}], 'rating': 4.0, 'coordinates': {'latitude': 41.5008062124252, 'longitude': -81.7044062912464}, 'transactions': [], 'price': '$$', 'location': {'address1': '1121 W 10th St', 'address2': '', 'address3': '', 'city': 'Cleveland', 'zip_code': '44113', 'country': 'US', 'state': 'OH', 'display_address': ['1121 W 10th St', 'Cleveland, OH 44113']}, 'phone': '+12166968400', 'display_phone': '(216) 696-8400', 'distance': 4030.197324886455}, {'id': 'SzcCJJmreMlWCsNjupdVAA', 'alias': 'l-albatros-cleveland', 'name': \"L'Albatros\", 'image_url': 'https://s3-media4.fl.yelpcdn.com/bphoto/QpVBtp_nqMbkW46wgyI31Q/o.jpg', 'is_closed': False, 'url': 'https://www.yelp.com/biz/l-albatros-cleveland?adjust_creative=xisiub8o-uhUA0tywyYa5Q&utm_campaign=yelp_api_v3&utm_medium=api_v3_business_search&utm_source=xisiub8o-uhUA0tywyYa5Q', 'review_count': 603, 'categories': [{'alias': 'french', 'title': 'French'}], 'rating': 4.5, 'coordinates': {'latitude': 41.5117439550152, 'longitude': -81.6063953369928}, 'transactions': [], 'price': '$$$', 'location': {'address1': '11401 Bellflower Rd', 'address2': '', 'address3': '', 'city': 'Cleveland', 'zip_code': '44106', 'country': 'US', 'state': 'OH', 'display_address': ['11401 Bellflower Rd', 'Cleveland, OH 44106']}, 'phone': '+12167917880', 'display_phone': '(216) 791-7880', 'distance': 6953.412053123396}, {'id': 'epAifIGqwj5oFp5MV8kgiQ', 'alias': 'mia-bella-restaurant-cleveland', 'name': 'Mia Bella Restaurant', 'image_url': 'https://s3-media2.fl.yelpcdn.com/bphoto/bkHaBH15fcsB0aZmrLGwfw/o.jpg', 'is_closed': False, 'url': 'https://www.yelp.com/biz/mia-bella-restaurant-cleveland?adjust_creative=xisiub8o-uhUA0tywyYa5Q&utm_campaign=yelp_api_v3&utm_medium=api_v3_business_search&utm_source=xisiub8o-uhUA0tywyYa5Q', 'review_count': 478, 'categories': [{'alias': 'mediterranean', 'title': 'Mediterranean'}, {'alias': 'italian', 'title': 'Italian'}, {'alias': 'gluten_free', 'title': 'Gluten-Free'}], 'rating': 4.5, 'coordinates': {'latitude': 41.5085151, 'longitude': -81.5976709}, 'transactions': [], 'price': '$$', 'location': {'address1': '12200 Mayfield Rd', 'address2': '', 'address3': '', 'city': 'Cleveland', 'zip_code': '44106', 'country': 'US', 'state': 'OH', 'display_address': ['12200 Mayfield Rd', 'Cleveland, OH 44106']}, 'phone': '+12167952355', 'display_phone': '(216) 795-2355', 'distance': 7333.9832703494}, {'id': 'MX3TL4-ij22rLFBD1XjKGw', 'alias': 'fahrenheit-cleveland-2', 'name': 'Fahrenheit', 'image_url': 'https://s3-media2.fl.yelpcdn.com/bphoto/sipt1J5D-TqytvebFLKD_A/o.jpg', 'is_closed': False, 'url': 'https://www.yelp.com/biz/fahrenheit-cleveland-2?adjust_creative=xisiub8o-uhUA0tywyYa5Q&utm_campaign=yelp_api_v3&utm_medium=api_v3_business_search&utm_source=xisiub8o-uhUA0tywyYa5Q', 'review_count': 271, 'categories': [{'alias': 'newamerican', 'title': 'American (New)'}, {'alias': 'seafood', 'title': 'Seafood'}, {'alias': 'cocktailbars', 'title': 'Cocktail Bars'}], 'rating': 4.0, 'coordinates': {'latitude': 41.47974, 'longitude': -81.68458}, 'transactions': [], 'price': '$$$', 'location': {'address1': '2417 Professor Ave', 'address2': '', 'address3': '', 'city': 'Cleveland', 'zip_code': '44113', 'country': 'US', 'state': 'OH', 'display_address': ['2417 Professor Ave', 'Cleveland, OH 44113']}, 'phone': '+12167818858', 'display_phone': '(216) 781-8858', 'distance': 1231.2158459926795}, {'id': 'Nkb9_PKgnVYZe8W1y_fBRg', 'alias': 'dante-next-door-cleveland', 'name': 'Dante Next Door', 'image_url': 'https://s3-media4.fl.yelpcdn.com/bphoto/BfZB9PqCwRiyZhfo3SJ1Bw/o.jpg', 'is_closed': False, 'url': 'https://www.yelp.com/biz/dante-next-door-cleveland?adjust_creative=xisiub8o-uhUA0tywyYa5Q&utm_campaign=yelp_api_v3&utm_medium=api_v3_business_search&utm_source=xisiub8o-uhUA0tywyYa5Q', 'review_count': 73, 'categories': [{'alias': 'italian', 'title': 'Italian'}, {'alias': 'pizza', 'title': 'Pizza'}], 'rating': 4.5, 'coordinates': {'latitude': 41.4815368652344, 'longitude': -81.6861724853516}, 'transactions': [], 'price': '$$', 'location': {'address1': '2247 Professor Ave', 'address2': '', 'address3': '', 'city': 'Cleveland', 'zip_code': '44113', 'country': 'US', 'state': 'OH', 'display_address': ['2247 Professor Ave', 'Cleveland, OH 44113']}, 'phone': '+12162741201', 'display_phone': '(216) 274-1201', 'distance': 1480.5270100080695}, {'id': 'F2pfjAZ_3dMTGCKv6c5wOw', 'alias': 'momocho-cleveland-2', 'name': 'Momocho', 'image_url': 'https://s3-media3.fl.yelpcdn.com/bphoto/D61sVwtPaLoYCO8URc_RWQ/o.jpg', 'is_closed': False, 'url': 'https://www.yelp.com/biz/momocho-cleveland-2?adjust_creative=xisiub8o-uhUA0tywyYa5Q&utm_campaign=yelp_api_v3&utm_medium=api_v3_business_search&utm_source=xisiub8o-uhUA0tywyYa5Q', 'review_count': 694, 'categories': [{'alias': 'mexican', 'title': 'Mexican'}], 'rating': 4.0, 'coordinates': {'latitude': 41.4840151, 'longitude': -81.7098131}, 'transactions': [], 'price': '$$', 'location': {'address1': '1835 Fulton Rd', 'address2': None, 'address3': '', 'city': 'Cleveland', 'zip_code': '44113', 'country': 'US', 'state': 'OH', 'display_address': ['1835 Fulton Rd', 'Cleveland, OH 44113']}, 'phone': '+12166942122', 'display_phone': '(216) 694-2122', 'distance': 3334.932183995511}, {'id': 's1FNMwBVBmC7mLfYy77e8g', 'alias': 'spice-kitchen-bar-cleveland', 'name': 'Spice Kitchen + Bar', 'image_url': 'https://s3-media1.fl.yelpcdn.com/bphoto/BO-b7eUxq8QJA14P25u-BA/o.jpg', 'is_closed': False, 'url': 'https://www.yelp.com/biz/spice-kitchen-bar-cleveland?adjust_creative=xisiub8o-uhUA0tywyYa5Q&utm_campaign=yelp_api_v3&utm_medium=api_v3_business_search&utm_source=xisiub8o-uhUA0tywyYa5Q', 'review_count': 252, 'categories': [{'alias': 'newamerican', 'title': 'American (New)'}, {'alias': 'bars', 'title': 'Bars'}], 'rating': 4.0, 'coordinates': {'latitude': 41.4852, 'longitude': -81.72647}, 'transactions': ['restaurant_reservation'], 'price': '$$', 'location': {'address1': '5800 Detroit Ave', 'address2': '', 'address3': '', 'city': 'Cleveland', 'zip_code': '44102', 'country': 'US', 'state': 'OH', 'display_address': ['5800 Detroit Ave', 'Cleveland, OH 44102']}, 'phone': '+12169619637', 'display_phone': '(216) 961-9637', 'distance': 4695.867281513795}, {'id': 'ZRLmQ3oAuspAkk5R6BOfyg', 'alias': 'fat-cats-cleveland', 'name': 'Fat Cats', 'image_url': 'https://s3-media1.fl.yelpcdn.com/bphoto/3Tt12T0CkXKCr5TeWq0qSQ/o.jpg', 'is_closed': False, 'url': 'https://www.yelp.com/biz/fat-cats-cleveland?adjust_creative=xisiub8o-uhUA0tywyYa5Q&utm_campaign=yelp_api_v3&utm_medium=api_v3_business_search&utm_source=xisiub8o-uhUA0tywyYa5Q', 'review_count': 203, 'categories': [{'alias': 'newamerican', 'title': 'American (New)'}, {'alias': 'bars', 'title': 'Bars'}, {'alias': 'asianfusion', 'title': 'Asian Fusion'}], 'rating': 4.0, 'coordinates': {'latitude': 41.48381, 'longitude': -81.68746}, 'transactions': [], 'price': '$$', 'location': {'address1': '2061 W 10th St', 'address2': '', 'address3': '', 'city': 'Cleveland', 'zip_code': '44113', 'country': 'US', 'state': 'OH', 'display_address': ['2061 W 10th St', 'Cleveland, OH 44113']}, 'phone': '+12165790200', 'display_phone': '(216) 579-0200', 'distance': 1706.5796525688768}, {'id': 'GIfZNMP0oIJCje_Xp0Bgrw', 'alias': 'the-greenhouse-tavern-cleveland-2', 'name': 'The Greenhouse Tavern', 'image_url': 'https://s3-media4.fl.yelpcdn.com/bphoto/M4t0AoL3UeUw-wVIUAuNeg/o.jpg', 'is_closed': False, 'url': 'https://www.yelp.com/biz/the-greenhouse-tavern-cleveland-2?adjust_creative=xisiub8o-uhUA0tywyYa5Q&utm_campaign=yelp_api_v3&utm_medium=api_v3_business_search&utm_source=xisiub8o-uhUA0tywyYa5Q', 'review_count': 989, 'categories': [{'alias': 'newamerican', 'title': 'American (New)'}, {'alias': 'gastropubs', 'title': 'Gastropubs'}, {'alias': 'breakfast_brunch', 'title': 'Breakfast & Brunch'}], 'rating': 3.5, 'coordinates': {'latitude': 41.499073, 'longitude': -81.690422}, 'transactions': ['pickup', 'delivery'], 'price': '$$$', 'location': {'address1': '2038 E 4th St', 'address2': '', 'address3': '', 'city': 'Cleveland', 'zip_code': '44115', 'country': 'US', 'state': 'OH', 'display_address': ['2038 E 4th St', 'Cleveland, OH 44115']}, 'phone': '+12164430511', 'display_phone': '(216) 443-0511', 'distance': 3225.010950518602}, {'id': 'K6fYrrTorlpXmqutRcrHzg', 'alias': 'tremont-taphouse-cleveland', 'name': 'Tremont Taphouse', 'image_url': 'https://s3-media1.fl.yelpcdn.com/bphoto/-jFFV3xFn6pVmcsJD0p4OA/o.jpg', 'is_closed': False, 'url': 'https://www.yelp.com/biz/tremont-taphouse-cleveland?adjust_creative=xisiub8o-uhUA0tywyYa5Q&utm_campaign=yelp_api_v3&utm_medium=api_v3_business_search&utm_source=xisiub8o-uhUA0tywyYa5Q', 'review_count': 417, 'categories': [{'alias': 'gastropubs', 'title': 'Gastropubs'}, {'alias': 'newamerican', 'title': 'American (New)'}, {'alias': 'beerbar', 'title': 'Beer Bar'}], 'rating': 4.0, 'coordinates': {'latitude': 41.47719, 'longitude': -81.69528}, 'transactions': [], 'price': '$$', 'location': {'address1': '2572 Scranton Rd', 'address2': '', 'address3': '', 'city': 'Cleveland', 'zip_code': '44113', 'country': 'US', 'state': 'OH', 'display_address': ['2572 Scranton Rd', 'Cleveland, OH 44113']}, 'phone': '+12162984451', 'display_phone': '(216) 298-4451', 'distance': 1954.6007213012788}, {'id': 'wxMDlB4MJ65CHQVxOYm5_w', 'alias': 'landmark-cleveland', 'name': 'Landmark', 'image_url': 'https://s3-media1.fl.yelpcdn.com/bphoto/-3NViEOyagGO8dJL5eoVvQ/o.jpg', 'is_closed': False, 'url': 'https://www.yelp.com/biz/landmark-cleveland?adjust_creative=xisiub8o-uhUA0tywyYa5Q&utm_campaign=yelp_api_v3&utm_medium=api_v3_business_search&utm_source=xisiub8o-uhUA0tywyYa5Q', 'review_count': 41, 'categories': [{'alias': 'breakfast_brunch', 'title': 'Breakfast & Brunch'}, {'alias': 'diners', 'title': 'Diners'}, {'alias': 'salad', 'title': 'Salad'}], 'rating': 4.5, 'coordinates': {'latitude': 41.4872978, 'longitude': -81.7683908}, 'transactions': [], 'price': '$$', 'location': {'address1': '11637 Clifton Blvd', 'address2': '', 'address3': None, 'city': 'Cleveland', 'zip_code': '44102', 'country': 'US', 'state': 'OH', 'display_address': ['11637 Clifton Blvd', 'Cleveland, OH 44102']}, 'phone': '+12162304040', 'display_phone': '(216) 230-4040', 'distance': 8156.640577180086}, {'id': 'bLi48v8Div6Qm2Fyaw0C6Q', 'alias': 'hodges-cleveland', 'name': \"Hodge's\", 'image_url': 'https://s3-media2.fl.yelpcdn.com/bphoto/hlK5pWGP08VQayZn8tDlEA/o.jpg', 'is_closed': False, 'url': 'https://www.yelp.com/biz/hodges-cleveland?adjust_creative=xisiub8o-uhUA0tywyYa5Q&utm_campaign=yelp_api_v3&utm_medium=api_v3_business_search&utm_source=xisiub8o-uhUA0tywyYa5Q', 'review_count': 351, 'categories': [{'alias': 'tradamerican', 'title': 'American (Traditional)'}, {'alias': 'sportsbars', 'title': 'Sports Bars'}], 'rating': 4.0, 'coordinates': {'latitude': 41.49975, 'longitude': -81.6886899}, 'transactions': [], 'price': '$$', 'location': {'address1': '668 Euclid Ave', 'address2': '', 'address3': '', 'city': 'Cleveland', 'zip_code': '44114', 'country': 'US', 'state': 'OH', 'display_address': ['668 Euclid Ave', 'Cleveland, OH 44114']}, 'phone': '+12167714000', 'display_phone': '(216) 771-4000', 'distance': 3191.50990754721}, {'id': '4YFV-Z4Yy_MCGS54kBgWPg', 'alias': 'rising-grill-cleveland-2', 'name': 'Rising Grill', 'image_url': 'https://s3-media2.fl.yelpcdn.com/bphoto/2-KJTddBE-gULA1FSs_60g/o.jpg', 'is_closed': False, 'url': 'https://www.yelp.com/biz/rising-grill-cleveland-2?adjust_creative=xisiub8o-uhUA0tywyYa5Q&utm_campaign=yelp_api_v3&utm_medium=api_v3_business_search&utm_source=xisiub8o-uhUA0tywyYa5Q', 'review_count': 42, 'categories': [{'alias': 'korean', 'title': 'Korean'}, {'alias': 'bbq', 'title': 'Barbeque'}], 'rating': 4.0, 'coordinates': {'latitude': 41.50983, 'longitude': -81.66251}, 'transactions': [], 'price': '$$', 'location': {'address1': '3709 Payne Ave', 'address2': '', 'address3': None, 'city': 'Cleveland', 'zip_code': '44114', 'country': 'US', 'state': 'OH', 'display_address': ['3709 Payne Ave', 'Cleveland, OH 44114']}, 'phone': '+12164653561', 'display_phone': '(216) 465-3561', 'distance': 4126.675514651093}, {'id': 'fja2EnaSxKu1D7uctMhw-w', 'alias': 'red-the-steakhouse-cleveland-3', 'name': 'Red The Steakhouse', 'image_url': 'https://s3-media2.fl.yelpcdn.com/bphoto/Ofm0FCfl-9Xu7h9x-x9dhA/o.jpg', 'is_closed': False, 'url': 'https://www.yelp.com/biz/red-the-steakhouse-cleveland-3?adjust_creative=xisiub8o-uhUA0tywyYa5Q&utm_campaign=yelp_api_v3&utm_medium=api_v3_business_search&utm_source=xisiub8o-uhUA0tywyYa5Q', 'review_count': 201, 'categories': [{'alias': 'steak', 'title': 'Steakhouses'}, {'alias': 'bars', 'title': 'Bars'}], 'rating': 4.0, 'coordinates': {'latitude': 41.498484, 'longitude': -81.6894706}, 'transactions': [], 'price': '$$$', 'location': {'address1': '417 Prospect Ave E', 'address2': '', 'address3': '', 'city': 'Cleveland', 'zip_code': '44115', 'country': 'US', 'state': 'OH', 'display_address': ['417 Prospect Ave E', 'Cleveland, OH 44115']}, 'phone': '+12166640941', 'display_phone': '(216) 664-0941', 'distance': 3144.3393611028564}], 'total': 1400, 'region': {'center': {'longitude': -81.67236328125, 'latitude': 41.47341857719741}}}\n"
     ]
    }
   ],
   "source": [
    "# https://www.yelp.com/developers/documentation/v3/business_search -- Link for API search\n",
    "\n",
    "url = 'https://api.yelp.com/v3/businesses/search'\n",
    "params = {'location': 'Cleveland',\n",
    "        'term': 'restaurants'}\n",
    "API = api_key\n",
    "headers = {'Authorization': 'bearer %s' % API}\n",
    "response = requests.get(url=url, params=params, headers=headers).json()\n",
    "print(response)\n"
   ]
  },
  {
   "cell_type": "code",
   "execution_count": 5,
   "metadata": {},
   "outputs": [
    {
     "ename": "SyntaxError",
     "evalue": "invalid syntax (<ipython-input-5-03f02f40c05d>, line 1)",
     "output_type": "error",
     "traceback": [
      "\u001b[1;36m  File \u001b[1;32m\"<ipython-input-5-03f02f40c05d>\"\u001b[1;36m, line \u001b[1;32m1\u001b[0m\n\u001b[1;33m    curl -X POST -H \"Authorization: Bearer ACCESS_TOKEN\" -H \"Content-Type: application/graphql\" https://api.yelp.com/v3/graphql --data '\u001b[0m\n\u001b[1;37m               ^\u001b[0m\n\u001b[1;31mSyntaxError\u001b[0m\u001b[1;31m:\u001b[0m invalid syntax\n"
     ]
    }
   ],
   "source": [
    "{\n",
    "    search(term: \"burrito\",\n",
    "            location: \"san francisco\",\n",
    "            limit: 5) {\n",
    "        total\n",
    "        business {\n",
    "            name\n",
    "            url\n",
    "        }\n",
    "    }\n",
    "}"
   ]
  },
  {
   "cell_type": "code",
   "execution_count": null,
   "metadata": {},
   "outputs": [],
   "source": [
    "{\n",
    "    \"query\": \"business(id: $business_name) {\n",
    "        name\n",
    "        id\n",
    "        rating\n",
    "        url\n",
    "    }\",\n",
    "    \"variables\": {\n",
    "        \"business_name\": \"garaje-san-francisco\"\n",
    "    }\n",
    "}\n"
   ]
  },
  {
   "cell_type": "code",
   "execution_count": null,
   "metadata": {},
   "outputs": [],
   "source": []
  }
 ],
 "metadata": {
  "kernelspec": {
   "display_name": "Python 3",
   "language": "python",
   "name": "python3"
  },
  "language_info": {
   "codemirror_mode": {
    "name": "ipython",
    "version": 3
   },
   "file_extension": ".py",
   "mimetype": "text/x-python",
   "name": "python",
   "nbconvert_exporter": "python",
   "pygments_lexer": "ipython3",
   "version": "3.6.5"
  }
 },
 "nbformat": 4,
 "nbformat_minor": 2
}
