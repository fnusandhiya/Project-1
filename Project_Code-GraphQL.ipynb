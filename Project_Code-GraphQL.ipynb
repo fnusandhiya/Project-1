{
 "cells": [
  {
   "cell_type": "code",
   "execution_count": 4,
   "metadata": {},
   "outputs": [
    {
     "data": {
      "text/plain": [
       "'FWlLMLNa9oQxO8YNFssSF9wXFHJfMlP5nVNebOoSYE42Zqtk1s71LFbisf6hJWqPUkuYiCHxlsoSCi3Sh09PhOT10DdAf48vvY31Jpbzvy1nWUXP8kn9qu9HjNeTW3Yx'"
      ]
     },
     "execution_count": 4,
     "metadata": {},
     "output_type": "execute_result"
    }
   ],
   "source": [
    "import matplotlib.pyplot as plt\n",
    "import pandas as pd\n",
    "import numpy as np\n",
    "import requests\n",
    "import time\n",
    "import json\n",
    "import random\n",
    "from pprint import pprint\n",
    "from yelpapi import YelpAPI\n",
    "from gql import gql, Client\n",
    "\n",
    "\n",
    "# Yelp API KEY\n",
    "from API import api_key\n",
    "api_key"
   ]
  },
  {
   "cell_type": "code",
   "execution_count": 5,
   "metadata": {},
   "outputs": [],
   "source": [
    "# https://www.yelp.com/developers/documentation/v3/business_search -- Link for API search\n",
    "\n",
    "url = 'https://api.yelp.com/v3/graphql'\n",
    "params = {'location': 'Cleveland',\n",
    "        'term': 'restaurants'}\n",
    "API = api_key\n",
    "headers = {'Authorization': 'bearer %s' % API}\n",
    "#response = requests.get(url=url, params=params, headers=headers).json()\n",
    "#print(response)\n",
    "\n",
    "#curl -X POST -H \"Authorization: Bearer ACCESS_TOKEN\" -H \"Content-Type: application/graphql\" https://api.yelp.com/v3/graphql --data '\n"
   ]
  },
  {
   "cell_type": "code",
   "execution_count": 10,
   "metadata": {},
   "outputs": [
    {
     "ename": "SyntaxError",
     "evalue": "invalid syntax (<ipython-input-10-26c112e2b196>, line 2)",
     "output_type": "error",
     "traceback": [
      "\u001b[1;36m  File \u001b[1;32m\"<ipython-input-10-26c112e2b196>\"\u001b[1;36m, line \u001b[1;32m2\u001b[0m\n\u001b[1;33m    search(term:\"burrito\",\u001b[0m\n\u001b[1;37m               ^\u001b[0m\n\u001b[1;31mSyntaxError\u001b[0m\u001b[1;31m:\u001b[0m invalid syntax\n"
     ]
    }
   ],
   "source": [
    "query=gql({\n",
    "  search(term:\"burrito\",\n",
    "         location:\"san francisco\") {\n",
    "    total\n",
    "    business {\n",
    "      name\n",
    "      reviews {\n",
    "        text\n",
    "        rating\n",
    "        time_created\n",
    "        url\n",
    "      }\n",
    "    }\n",
    "  }\n",
    "})"
   ]
  },
  {
   "cell_type": "code",
   "execution_count": 2,
   "metadata": {},
   "outputs": [
    {
     "ename": "SyntaxError",
     "evalue": "invalid syntax (<ipython-input-2-bf1e09aef7a2>, line 1)",
     "output_type": "error",
     "traceback": [
      "\u001b[1;36m  File \u001b[1;32m\"<ipython-input-2-bf1e09aef7a2>\"\u001b[1;36m, line \u001b[1;32m1\u001b[0m\n\u001b[1;33m    curl -X POST -H \"Authorization: Bearer ACCESS_TOKEN\" -H \"Content-Type: application/graphql\" -H \"Accept-Language: en_US\" --data '\u001b[0m\n\u001b[1;37m               ^\u001b[0m\n\u001b[1;31mSyntaxError\u001b[0m\u001b[1;31m:\u001b[0m invalid syntax\n"
     ]
    }
   ],
   "source": [
    "curl -X POST \\\n",
    "-H \"Authorization: Bearer ACCESS_TOKEN\" \\\n",
    "-H \"Content-Type: application/graphql\" \\\n",
    "-H \"Accept-Language: en_US\" \\\n",
    "--data '\n",
    "{\n",
    "    business(id: \"garaje-san-francisco\") {\n",
    "        name\n",
    "        url\n",
    "    }\n",
    "}'"
   ]
  },
  {
   "cell_type": "code",
   "execution_count": null,
   "metadata": {},
   "outputs": [],
   "source": []
  }
 ],
 "metadata": {
  "kernelspec": {
   "display_name": "Python 3",
   "language": "python",
   "name": "python3"
  },
  "language_info": {
   "codemirror_mode": {
    "name": "ipython",
    "version": 3
   },
   "file_extension": ".py",
   "mimetype": "text/x-python",
   "name": "python",
   "nbconvert_exporter": "python",
   "pygments_lexer": "ipython3",
   "version": "3.6.5"
  }
 },
 "nbformat": 4,
 "nbformat_minor": 2
}
