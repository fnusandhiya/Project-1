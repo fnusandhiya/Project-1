{
 "cells": [
  {
   "cell_type": "code",
   "execution_count": 2,
   "metadata": {},
   "outputs": [
    {
     "ename": "ModuleNotFoundError",
     "evalue": "No module named 'API'",
     "output_type": "error",
     "traceback": [
      "\u001b[0;31m---------------------------------------------------------------------------\u001b[0m",
      "\u001b[0;31mModuleNotFoundError\u001b[0m                       Traceback (most recent call last)",
      "\u001b[0;32m<ipython-input-2-971e0dd6e66c>\u001b[0m in \u001b[0;36m<module>\u001b[0;34m()\u001b[0m\n\u001b[1;32m     17\u001b[0m \u001b[0;32mfrom\u001b[0m \u001b[0myelpapi\u001b[0m \u001b[0;32mimport\u001b[0m \u001b[0mYelpAPI\u001b[0m\u001b[0;34m\u001b[0m\u001b[0m\n\u001b[1;32m     18\u001b[0m \u001b[0;32mfrom\u001b[0m \u001b[0mpprint\u001b[0m \u001b[0;32mimport\u001b[0m \u001b[0mpprint\u001b[0m\u001b[0;34m\u001b[0m\u001b[0m\n\u001b[0;32m---> 19\u001b[0;31m \u001b[0;32mfrom\u001b[0m \u001b[0mAPI\u001b[0m \u001b[0;32mimport\u001b[0m \u001b[0mapi_key\u001b[0m\u001b[0;34m\u001b[0m\u001b[0m\n\u001b[0m\u001b[1;32m     20\u001b[0m \u001b[0;32mimport\u001b[0m \u001b[0mseaborn\u001b[0m \u001b[0;32mas\u001b[0m \u001b[0msns\u001b[0m\u001b[0;34m\u001b[0m\u001b[0m\n\u001b[1;32m     21\u001b[0m \u001b[0mos\u001b[0m\u001b[0;34m.\u001b[0m\u001b[0menviron\u001b[0m\u001b[0;34m[\u001b[0m\u001b[0;34m'PROJ_LIB'\u001b[0m\u001b[0;34m]\u001b[0m \u001b[0;34m=\u001b[0m \u001b[0;34m\"/anaconda3/envs/test/share/proj\"\u001b[0m\u001b[0;34m\u001b[0m\u001b[0m\n",
      "\u001b[0;31mModuleNotFoundError\u001b[0m: No module named 'API'"
     ]
    }
   ],
   "source": [
    "#Import dependenies\n",
    "import os\n",
    "import matplotlib.ticker as ticker\n",
    "import matplotlib.cm as cm\n",
    "import matplotlib as mpl\n",
    "from matplotlib.gridspec import GridSpec\n",
    "import matplotlib.pyplot as plt\n",
    "%matplotlib inline\n",
    "import pandas as pd\n",
    "from pandas.io.json import json_normalize\n",
    "import requests\n",
    "import json\n",
    "from gmplot import gmplot\n",
    "import time\n",
    "import numpy as np\n",
    "import folium as fl\n",
    "from yelpapi import YelpAPI\n",
    "from pprint import pprint\n",
    "from API import api_key\n",
    "import seaborn as sns\n",
    "os.environ['PROJ_LIB'] = \"/anaconda3/envs/test/share/proj\""
   ]
  },
  {
   "cell_type": "code",
   "execution_count": null,
   "metadata": {},
   "outputs": [],
   "source": [
    "#Get information using Yelp API from Yelp\n",
    "url = 'https://api.yelp.com/v3/businesses/search'\n",
    "offset = 0\n",
    "API = api_key\n",
    "headers = {'Authorization': 'bearer %s' % API}\n",
    "business = []\n",
    "\n",
    "for i in range(0, 500, 50):\n",
    "    params = {'location': 'Cleveland, Ohio', 'offset': offset, 'limit': 50}\n",
    "    response = requests.get(url, params=params, headers=headers)\n",
    "    business.append(response.json())\n",
    "    offset += 50\n",
    "    \n",
    "    if offset % 50 == 0:\n",
    "        time.sleep(5)\n",
    "        \n",
    "business"
   ]
  },
  {
   "cell_type": "code",
   "execution_count": null,
   "metadata": {
    "scrolled": true
   },
   "outputs": [],
   "source": [
    "#Create a dataframe\n",
    "response = business[0]['businesses']\n",
    "df = pd.DataFrame.from_dict(response)\n",
    "df.head()"
   ]
  },
  {
   "cell_type": "code",
   "execution_count": null,
   "metadata": {
    "scrolled": true
   },
   "outputs": [],
   "source": [
    "#Concat all the dataframes into one\n",
    "full_data = []\n",
    "\n",
    "for i in business:\n",
    "    full_data = full_data + i['businesses']\n",
    "\n",
    "df = pd.DataFrame.from_dict(full_data)\n",
    "df.head()"
   ]
  },
  {
   "cell_type": "code",
   "execution_count": null,
   "metadata": {},
   "outputs": [],
   "source": [
    "#Clean the dataframe from dictionaries\n",
    "idx = 0\n",
    "lats = []\n",
    "lngs = []\n",
    "Bus_titles = []\n",
    "ZIPS = []\n",
    "for i, r in df.iterrows():\n",
    "    lat = r[\"coordinates\"][\"latitude\"]\n",
    "    lng = r[\"coordinates\"][\"longitude\"]\n",
    "    titles = r[\"categories\"][0][\"title\"]\n",
    "    ZIP = r[\"location\"][\"zip_code\"]\n",
    "    lats.append(lat)\n",
    "    lngs.append(lng)\n",
    "    Bus_titles.append(titles)\n",
    "    ZIPS.append(ZIP)\n",
    "    \n",
    "clean_df = pd.DataFrame(data={'Categories': Bus_titles, 'latitude': lats,'longitude':lngs, 'zip_code': ZIPS})\n",
    "clean_df.head()"
   ]
  },
  {
   "cell_type": "code",
   "execution_count": null,
   "metadata": {},
   "outputs": [],
   "source": [
    "#Add the cleaned columns into datframe and drop the unnecessary columns\n",
    "concat_df = pd.concat([df,clean_df], axis=1)\n",
    "\n",
    "#Drop the columns\n",
    "yelp = concat_df.drop(columns = ['coordinates', 'categories', 'location'])\n",
    "yelp.head()"
   ]
  },
  {
   "cell_type": "code",
   "execution_count": null,
   "metadata": {},
   "outputs": [],
   "source": [
    "\n",
    "grouped_yelp = yelp.groupby(['Categories'], as_index=False).sum()\n",
    "review = grouped_yelp.sort_values(\"review_count\", ascending=False)\n",
    "review.head()\n"
   ]
  },
  {
   "cell_type": "code",
   "execution_count": null,
   "metadata": {},
   "outputs": [],
   "source": [
    "#Use a plot to visualize the frequency of rating\n",
    "sns.countplot(x='rating',data=yelp);\n",
    "\n",
    "#we can see that most of the businesses in cleveland had got a rating of 4.0 with a review count of more than 200."
   ]
  },
  {
   "cell_type": "code",
   "execution_count": 2,
   "metadata": {},
   "outputs": [
    {
     "ename": "NameError",
     "evalue": "name 'yelp' is not defined",
     "output_type": "error",
     "traceback": [
      "\u001b[0;31m---------------------------------------------------------------------------\u001b[0m",
      "\u001b[0;31mNameError\u001b[0m                                 Traceback (most recent call last)",
      "\u001b[0;32m<ipython-input-2-b612fe64ce79>\u001b[0m in \u001b[0;36m<module>\u001b[0;34m()\u001b[0m\n\u001b[1;32m      6\u001b[0m                       \u001b[0mstopwords\u001b[0m \u001b[0;34m=\u001b[0m \u001b[0mSTOPWORDS\u001b[0m\u001b[0;34m,\u001b[0m\u001b[0;34m\u001b[0m\u001b[0m\n\u001b[1;32m      7\u001b[0m                           \u001b[0mheight\u001b[0m\u001b[0;34m=\u001b[0m\u001b[0;36m1000\u001b[0m\u001b[0;34m\u001b[0m\u001b[0m\n\u001b[0;32m----> 8\u001b[0;31m                          ).generate(str(yelp['Categories']))\n\u001b[0m\u001b[1;32m      9\u001b[0m \u001b[0;34m\u001b[0m\u001b[0m\n\u001b[1;32m     10\u001b[0m \u001b[0;34m\u001b[0m\u001b[0m\n",
      "\u001b[0;31mNameError\u001b[0m: name 'yelp' is not defined"
     ]
    },
    {
     "data": {
      "text/plain": [
       "<Figure size 864x720 with 0 Axes>"
      ]
     },
     "metadata": {},
     "output_type": "display_data"
    }
   ],
   "source": [
    "from wordcloud import WordCloud, STOPWORDS\n",
    "plt.figure(figsize=(12,10))\n",
    "\n",
    "wordcloud = WordCloud(background_color='white',\n",
    "                          width=1200,\n",
    "                      stopwords = STOPWORDS,\n",
    "                          height=1000\n",
    "                         ).generate(str(yelp['Categories']))\n",
    "\n",
    "\n",
    "plt.imshow(wordcloud)\n",
    "plt.axis('off');\n",
    "\n",
    "\n",
    "#top businesses on our dataset. The height of each word in this picture is an indication of frequency of occurrence of the word in the entire text.\n",
    "#words like mexican, american, bars, coffee and tea are frequently used in the reviews."
   ]
  },
  {
   "cell_type": "code",
   "execution_count": null,
   "metadata": {},
   "outputs": [],
   "source": [
    "plt.figure(figsize=(20,12))\n",
    "f = sns.barplot( y= 'review_count',x = 'Categories' , data = review.iloc[0:10])\n",
    "f.set_title('Top 5 Categories with highest Review Count')\n",
    "f.set_ylabel('Review Count')\n",
    "f.set_xlabel('Category');"
   ]
  },
  {
   "cell_type": "code",
   "execution_count": 3,
   "metadata": {},
   "outputs": [
    {
     "ename": "NameError",
     "evalue": "name 'yelp' is not defined",
     "output_type": "error",
     "traceback": [
      "\u001b[0;31m---------------------------------------------------------------------------\u001b[0m",
      "\u001b[0;31mNameError\u001b[0m                                 Traceback (most recent call last)",
      "\u001b[0;32m<ipython-input-3-f2d6ad0a09fa>\u001b[0m in \u001b[0;36m<module>\u001b[0;34m()\u001b[0m\n\u001b[1;32m      1\u001b[0m \u001b[0mgmap\u001b[0m \u001b[0;34m=\u001b[0m \u001b[0mgmplot\u001b[0m\u001b[0;34m.\u001b[0m\u001b[0mGoogleMapPlotter\u001b[0m\u001b[0;34m(\u001b[0m\u001b[0;36m41.4\u001b[0m\u001b[0;34m,\u001b[0m \u001b[0;34m-\u001b[0m\u001b[0;36m81.7\u001b[0m\u001b[0;34m,\u001b[0m \u001b[0;36m13\u001b[0m\u001b[0;34m)\u001b[0m\u001b[0;34m\u001b[0m\u001b[0m\n\u001b[1;32m      2\u001b[0m \u001b[0;31m#gmap = gmplot.GoogleMapPlotter.from_geocode(\"Cleveland\")\u001b[0m\u001b[0;34m\u001b[0m\u001b[0;34m\u001b[0m\u001b[0m\n\u001b[0;32m----> 3\u001b[0;31m \u001b[0mgmap\u001b[0m\u001b[0;34m.\u001b[0m\u001b[0mscatter\u001b[0m\u001b[0;34m(\u001b[0m\u001b[0myelp\u001b[0m\u001b[0;34m[\u001b[0m\u001b[0;34m'latitude'\u001b[0m\u001b[0;34m]\u001b[0m\u001b[0;34m,\u001b[0m \u001b[0myelp\u001b[0m\u001b[0;34m[\u001b[0m\u001b[0;34m'longitude'\u001b[0m\u001b[0;34m]\u001b[0m\u001b[0;34m,\u001b[0m \u001b[0;34m'#3B0B39'\u001b[0m\u001b[0;34m,\u001b[0m \u001b[0msize\u001b[0m\u001b[0;34m=\u001b[0m\u001b[0;36m40\u001b[0m\u001b[0;34m,\u001b[0m \u001b[0mmarker\u001b[0m\u001b[0;34m=\u001b[0m\u001b[0;32mFalse\u001b[0m\u001b[0;34m)\u001b[0m\u001b[0;34m\u001b[0m\u001b[0m\n\u001b[0m\u001b[1;32m      4\u001b[0m \u001b[0mgmap\u001b[0m\u001b[0;34m.\u001b[0m\u001b[0mdraw\u001b[0m\u001b[0;34m(\u001b[0m\u001b[0;34m\"my_map.html\"\u001b[0m\u001b[0;34m)\u001b[0m\u001b[0;34m\u001b[0m\u001b[0m\n\u001b[1;32m      5\u001b[0m \u001b[0mgmap\u001b[0m\u001b[0;34m\u001b[0m\u001b[0m\n",
      "\u001b[0;31mNameError\u001b[0m: name 'yelp' is not defined"
     ]
    }
   ],
   "source": [
    "gmap = gmplot.GoogleMapPlotter(41.4, -81.7, 13)\n",
    "#gmap = gmplot.GoogleMapPlotter.from_geocode(\"Cleveland\")\n",
    "gmap.scatter(yelp['latitude'], yelp['longitude'], '#3B0B39', size=40, marker=False)\n",
    "gmap.draw(\"my_map.html\")\n",
    "gmap"
   ]
  },
  {
   "cell_type": "code",
   "execution_count": null,
   "metadata": {},
   "outputs": [],
   "source": []
  }
 ],
 "metadata": {
  "kernelspec": {
   "display_name": "Python 3",
   "language": "python",
   "name": "python3"
  },
  "language_info": {
   "codemirror_mode": {
    "name": "ipython",
    "version": 3
   },
   "file_extension": ".py",
   "mimetype": "text/x-python",
   "name": "python",
   "nbconvert_exporter": "python",
   "pygments_lexer": "ipython3",
   "version": "3.6.5"
  }
 },
 "nbformat": 4,
 "nbformat_minor": 2
}
