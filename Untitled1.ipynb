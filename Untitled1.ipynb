{
 "cells": [
  {
   "cell_type": "code",
   "execution_count": null,
   "metadata": {},
   "outputs": [],
   "source": [
    "from pyzillow.pyzillow import ZillowWrapper, GetDeepSearchResults\n",
    "...\n",
    "address = 'YOUR ADDRESS'\n",
    "zipcode = 'YOUR ZIPCODE'\n",
    "...\n",
    "zillow_data = ZillowWrapper(YOUR_ZILLOW_API_KEY)\n",
    "deep_search_response = zillow_data.get_deep_search_results(address, zipcode)\n",
    "result = GetDeepSearchResults(deep_search_response)"
   ]
  }
 ],
 "metadata": {
  "kernelspec": {
   "display_name": "Python 3",
   "language": "python",
   "name": "python3"
  },
  "language_info": {
   "codemirror_mode": {
    "name": "ipython",
    "version": 3
   },
   "file_extension": ".py",
   "mimetype": "text/x-python",
   "name": "python",
   "nbconvert_exporter": "python",
   "pygments_lexer": "ipython3",
   "version": "3.6.5"
  }
 },
 "nbformat": 4,
 "nbformat_minor": 2
}
